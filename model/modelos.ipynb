{
 "cells": [
  {
   "cell_type": "code",
   "execution_count": null,
   "metadata": {},
   "outputs": [],
   "source": []
  },
  {
   "cell_type": "markdown",
   "metadata": {},
   "source": [
    "## Regresion Lineal solo con el budget"
   ]
  },
  {
   "cell_type": "code",
   "execution_count": null,
   "metadata": {},
   "outputs": [],
   "source": [
    "x = train['budget'].values.reshape(-1,1)\n",
    "y = train['revenue']\n",
    "\n",
    "X_train, X_val, y_train, y_val = train_test_split(x, y, test_size=0.2, random_state=42)\n",
    "\n",
    "reg = LinearRegression().fit(X_train, y_train)\n",
    "\n",
    "predictions = reg.predict(X_val)\n",
    "\n",
    "mae = mean_absolute_error(y_val, predictions)\n",
    "rmse = np.sqrt(mean_squared_error(y_val, predictions))\n",
    "\n",
    "print(f'MAE: {mae}')\n",
    "print(f'RMSE: {rmse}')\n",
    "print(f'Regression Score: {reg.score(X_val, y_val)}')\n",
    "print(f'Regression Coefficient: {reg.coef_[0]}')"
   ]
  },
  {
   "cell_type": "markdown",
   "metadata": {},
   "source": [
    "#### Random Forest"
   ]
  },
  {
   "cell_type": "code",
   "execution_count": null,
   "metadata": {},
   "outputs": [],
   "source": [
    "y = train['log_revenue']\n",
    "X = train.drop(['log_revenue', 'revenue'], axis=1)\n",
    "\n",
    "X_train, X_valid, y_train, y_valid = train_test_split(X, y, train_size=0.8, test_size=0.2, random_state=42)\n",
    "\n",
    "# Las features más interesantes\n",
    "feature_names = ['release_year', 'release_day', 'release_month', 'status', 'original_language',\n",
    "                 'budget', 'popularity', 'genres_count', 'production_companies', 'production_countries',\n",
    "                'spoken_languages_count', 'cast_count', 'crew_count', 'runtime']\n",
    "\n",
    "\n",
    "X_train_full = X_train[feature_names]\n",
    "\n",
    "X_valid_full = X_valid[feature_names]\n",
    "\n",
    "X_train_full.head()\n",
    "\n",
    "\n",
    "rf_model = RandomForestRegressor(\n",
    "    n_estimators = 20, \n",
    "    n_jobs = -1, \n",
    "    oob_score = True, \n",
    "    random_state = 42)\n",
    "\n",
    "\n",
    "rf_model.fit(X_train_full, y_train)\n",
    "\n",
    "# Predicción\n",
    "y_pred_rf = rf_model.predict(X_valid_full)\n",
    "\n",
    "# Calcular MAE \n",
    "mae_rf = mean_absolute_error(y_pred_rf, y_valid)\n",
    "\n",
    "print(\"MAE RF:\" , mae_rf)\n",
    "\n",
    "# Calcular RMSE\n",
    "rmse_rf = mean_squared_error(y_valid, y_pred_rf, squared=False)\n",
    "print(\"RMSE RF:\" , rmse_rf)\n",
    "\n",
    "# Calcular MAPE\n",
    "mape_rf = mean_absolute_percentage_error(y_valid, y_pred_rf) * 100\n",
    "print(\"MAPE RF:\" , mape_rf)\n",
    "\n",
    "# Calculando la importancia de las features\n",
    "feat_importances = pd.Series(rf_model.feature_importances_, index=X_train_full.columns)\n",
    "feat_importances.nlargest(10).plot(kind='barh')"
   ]
  },
  {
   "cell_type": "markdown",
   "metadata": {},
   "source": [
    "### XGBoost Model"
   ]
  },
  {
   "cell_type": "code",
   "execution_count": null,
   "metadata": {},
   "outputs": [],
   "source": [
    "xgb_model = XGBRegressor(\n",
    "        n_estimators = 50000, \n",
    "        learning_rate = 0.001,\n",
    "        max_depth = 6, \n",
    "        subsample = 0.3, \n",
    "        colsample_bytree = 0.2\n",
    "        )\n",
    "\n",
    "\n",
    "xgb_model.fit(X_train_full, y_train)\n",
    "\n",
    "y_pred_xgb = xgb_model.predict(X_valid_full)\n",
    "\n",
    "# Calcular MAE \n",
    "mae_xgb = mean_absolute_error(y_pred_xgb, y_valid)\n",
    "\n",
    "print(\"MAE XGBOOST:\" , mae_xgb)\n",
    "\n",
    "# Calcular RMSE\n",
    "rmse_xgb = mean_squared_error(y_valid, y_pred_xgb, squared=False)\n",
    "print(\"RMSE XGBOOST:\" , rmse_xgb)\n",
    "\n",
    "# Calcular MAPE\n",
    "mape_xgb = mean_absolute_percentage_error(y_valid, y_pred_xgb) * 100\n",
    "print(\"MAPE XGBOOST:\" , mape_xgb)\n",
    "\n",
    "# Calcular la importancia de las features\n",
    "feat_importances = pd.Series(xgb_model.feature_importances_, index=X_train_full.columns)\n",
    "feat_importances.nlargest(10).plot(kind='barh')"
   ]
  }
 ],
 "metadata": {
  "language_info": {
   "name": "python"
  }
 },
 "nbformat": 4,
 "nbformat_minor": 2
}
