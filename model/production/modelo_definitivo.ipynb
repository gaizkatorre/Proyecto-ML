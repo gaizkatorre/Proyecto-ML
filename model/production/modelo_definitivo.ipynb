{
 "cells": [
  {
   "cell_type": "markdown",
   "metadata": {},
   "source": [
    "#### Random Forest"
   ]
  },
  {
   "cell_type": "code",
   "execution_count": null,
   "metadata": {},
   "outputs": [],
   "source": [
    "y = train['log_revenue']\n",
    "X = train.drop(['log_revenue', 'revenue'], axis=1)\n",
    "\n",
    "X_train, X_valid, y_train, y_valid = train_test_split(X, y, train_size=0.8, test_size=0.2, random_state=42)\n",
    "\n",
    "# Las features más interesantes\n",
    "feature_names = ['release_year', 'release_day', 'release_month', 'status', 'original_language',\n",
    "                 'budget', 'popularity', 'genres_count', 'production_companies', 'production_countries',\n",
    "                'spoken_languages_count', 'cast_count', 'crew_count', 'runtime']\n",
    "\n",
    "\n",
    "X_train_full = X_train[feature_names]\n",
    "\n",
    "X_valid_full = X_valid[feature_names]\n",
    "\n",
    "X_train_full.head()\n",
    "\n",
    "\n",
    "rf_model = RandomForestRegressor(\n",
    "    n_estimators = 20, \n",
    "    n_jobs = -1, \n",
    "    oob_score = True, \n",
    "    random_state = 42)\n",
    "\n",
    "\n",
    "rf_model.fit(X_train_full, y_train)\n",
    "\n",
    "# Predicción\n",
    "y_pred_rf = rf_model.predict(X_valid_full)\n",
    "\n",
    "# Calcular MAE \n",
    "mae_rf = mean_absolute_error(y_pred_rf, y_valid)\n",
    "\n",
    "print(\"MAE RF:\" , mae_rf)\n",
    "\n",
    "# Calcular RMSE\n",
    "rmse_rf = mean_squared_error(y_valid, y_pred_rf, squared=False)\n",
    "print(\"RMSE RF:\" , rmse_rf)\n",
    "\n",
    "# Calcular MAPE\n",
    "mape_rf = mean_absolute_percentage_error(y_valid, y_pred_rf) * 100\n",
    "print(\"MAPE RF:\" , mape_rf)\n",
    "\n",
    "# Calculando la importancia de las features\n",
    "feat_importances = pd.Series(rf_model.feature_importances_, index=X_train_full.columns)\n",
    "feat_importances.nlargest(10).plot(kind='barh')"
   ]
  },
  {
   "cell_type": "code",
   "execution_count": null,
   "metadata": {},
   "outputs": [],
   "source": [
    "\n",
    "valores_reales = y_valid.values \n",
    "\n",
    "predicciones_rf = y_pred_rf  \n",
    "\n",
    "data_rf = pd.DataFrame({\"Valores Reales\": valores_reales, \"Predicciones RF\": predicciones_rf})\n",
    "\n",
    "sns.lmplot(x=\"Valores Reales\", y=\"Predicciones RF\", data=data_rf, scatter_kws={\"color\": \"blue\"}, line_kws={\"color\": \"red\"})\n",
    "\n",
    "plt.title(\"Predicciones vs. Valores Reales (Random Forest)\")\n",
    "plt.xlabel(\"Valores Reales (logaritmo del revenue)\")\n",
    "plt.ylabel(\"Predicciones (logaritmo del revenue)\")"
   ]
  }
 ],
 "metadata": {
  "language_info": {
   "name": "python"
  }
 },
 "nbformat": 4,
 "nbformat_minor": 2
}
